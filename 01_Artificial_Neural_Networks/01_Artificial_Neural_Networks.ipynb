{
  "nbformat": 4,
  "nbformat_minor": 0,
  "metadata": {
    "colab": {
      "name": "01_Artificial_Neural_Networks.ipynb",
      "provenance": []
    },
    "kernelspec": {
      "name": "python3",
      "display_name": "Python 3"
    }
  },
  "cells": [
    {
      "cell_type": "markdown",
      "metadata": {
        "id": "obal79h7jmOo"
      },
      "source": [
        "# **Artificial Neural Networks**\n",
        "\n",
        "<img src =\"https://cdn-images-1.medium.com/proxy/1*RGV6Bb3ChmVWsA8Q6Qth6Q.png\">\n",
        "\n",
        "**Agenda**\n",
        "\n",
        "1. What is a Neural Network?\n",
        "2. What are Weights and Layers?\n",
        "3. Activation Function\n",
        "4. Feedforward and Backpropogation\n",
        "5. Training Neural Network using Python \n"
      ]
    },
    {
      "cell_type": "markdown",
      "metadata": {
        "id": "DOk7C6e9liAw"
      },
      "source": [
        "## **Neural Networks**\n",
        "\n",
        "A neural network is a connected network which takes an input value and computes the desired output\n",
        "\n",
        "\n",
        "***Emergence of Deep Learning***\n",
        "\n",
        "The vasious shortcomings with ML lead to the emergence of deep learning.\n",
        "* Unable to process high dimensional data\n",
        "* feature engineering is manual\n",
        "* Not ideal for image processing\n",
        "* Not effecient with multiple data points"
      ]
    },
    {
      "cell_type": "markdown",
      "metadata": {
        "id": "4IPX9M1noEfl"
      },
      "source": [
        "### **Components of a Neural Networks**\n",
        "\n",
        "<img src=\"https://raw.githubusercontent.com/mhuzaifadev/ml_zero_to_hero/master/nnn.png?token=AMSGSQ4VCBHCKTQROQHMTQS72PR44\">"
      ]
    },
    {
      "cell_type": "markdown",
      "metadata": {
        "id": "Zmoy8LAGpfZA"
      },
      "source": [
        "## **Layers**\n",
        "\n",
        "Layers are used to hold the neurons and pass it on the subsequent layers.\n",
        "\n",
        "<img src =\"https://miro.medium.com/max/2636/1*3fA77_mLNiJTSgZFhYnU0Q.png\">"
      ]
    },
    {
      "cell_type": "markdown",
      "metadata": {
        "id": "eF4ZIhOSqGyo"
      },
      "source": [
        "## **Weights and Bias**\n",
        "\n",
        "Weights are chosen at random in the beginning and optimized during training to reduce the loss.\n",
        "\n",
        "<img src = \"https://raw.githubusercontent.com/mhuzaifadev/ml_zero_to_hero/master/bias.png?token=AMSGSQ57F7MTOIONOH3SFGS72PSRO\">"
      ]
    },
    {
      "cell_type": "markdown",
      "metadata": {
        "id": "6ajPoT0Eqp1t"
      },
      "source": [
        "## **Activation Functions**\n",
        "\n",
        "Activation function computes the output from the weighted sum of the inputs\n",
        "\n",
        "<img src = \"https://rasbt.github.io/mlxtend/user_guide/general_concepts/activation-functions_files/activation-functions.png\">"
      ]
    },
    {
      "cell_type": "markdown",
      "metadata": {
        "id": "S5T2jMnTrS1K"
      },
      "source": [
        "## **Feedforward and Backpropagation neural Networks**\n",
        "\n",
        "A **feedforward** neural network is an artificial neural network wherein connections between the nodes do not form a cycle. As such, it is different from its descendant: recurrent neural networks. Getting the initial output is the feedforward process in a neural network.\n",
        "\n",
        "A **backpropagation** is an algorithm for supervised learning of artificial neural networks using gradient descent. Given an artificial neural network and an error function, the method calculates the gradient of the error function with respect to the neural network's weights.\n",
        "\n",
        "<img src = \"https://www.researchgate.net/publication/303744090/figure/fig3/AS:368958596239360@1464977992159/Feedforward-Backpropagation-Neural-Network-architecture.png\">"
      ]
    },
    {
      "cell_type": "markdown",
      "metadata": {
        "id": "FR7lA4rEsvkt"
      },
      "source": [
        "Training a Neural Network in Python from Scratch\n",
        "(NumPy used)\n",
        "\n",
        "<img src = \"https://raw.githubusercontent.com/mhuzaifadev/ml_zero_to_hero/master/5.png?token=AMSGSQ4CEDEAAPUJ5RR32RC72PUAW\">"
      ]
    },
    {
      "cell_type": "markdown",
      "metadata": {
        "id": "G8cVTVnNvO5u"
      },
      "source": [
        "**Importing Numpy Library**"
      ]
    },
    {
      "cell_type": "code",
      "metadata": {
        "id": "ZXrohkz7jFpZ"
      },
      "source": [
        "import numpy as np"
      ],
      "execution_count": 1,
      "outputs": []
    },
    {
      "cell_type": "markdown",
      "metadata": {
        "id": "rDwiILrhvXv0"
      },
      "source": [
        "**Assigning Input values**"
      ]
    },
    {
      "cell_type": "code",
      "metadata": {
        "colab": {
          "base_uri": "https://localhost:8080/"
        },
        "id": "g2V-M8VmvX4c",
        "outputId": "a7d5380c-268a-4316-8722-d3f54aefa13d"
      },
      "source": [
        "input_value = np.array([[0,0], [0,1], [1,1], [1,0]])\n",
        "input_value.shape"
      ],
      "execution_count": 2,
      "outputs": [
        {
          "output_type": "execute_result",
          "data": {
            "text/plain": [
              "(4, 2)"
            ]
          },
          "metadata": {
            "tags": []
          },
          "execution_count": 2
        }
      ]
    },
    {
      "cell_type": "code",
      "metadata": {
        "colab": {
          "base_uri": "https://localhost:8080/"
        },
        "id": "ivZO0EAovuCT",
        "outputId": "f58b8940-938b-440b-b2df-ee4f722c7ce3"
      },
      "source": [
        "input_value"
      ],
      "execution_count": 3,
      "outputs": [
        {
          "output_type": "execute_result",
          "data": {
            "text/plain": [
              "array([[0, 0],\n",
              "       [0, 1],\n",
              "       [1, 1],\n",
              "       [1, 0]])"
            ]
          },
          "metadata": {
            "tags": []
          },
          "execution_count": 3
        }
      ]
    },
    {
      "cell_type": "markdown",
      "metadata": {
        "id": "rbXf-vaivX_l"
      },
      "source": [
        "**Assigning Output Values**"
      ]
    },
    {
      "cell_type": "code",
      "metadata": {
        "colab": {
          "base_uri": "https://localhost:8080/"
        },
        "id": "03QH81J5vYGw",
        "outputId": "8ecf8541-448f-4fcd-fd06-0bbf2526d389"
      },
      "source": [
        "output = np.array([0,1,1,0])\n",
        "output.shape"
      ],
      "execution_count": 4,
      "outputs": [
        {
          "output_type": "execute_result",
          "data": {
            "text/plain": [
              "(4,)"
            ]
          },
          "metadata": {
            "tags": []
          },
          "execution_count": 4
        }
      ]
    },
    {
      "cell_type": "code",
      "metadata": {
        "colab": {
          "base_uri": "https://localhost:8080/"
        },
        "id": "1JCRHSHfwEKk",
        "outputId": "9e6d3008-df43-4dfe-8a63-f3a3041968c4"
      },
      "source": [
        "output = output.reshape(4,1)\n",
        "output.shape"
      ],
      "execution_count": 5,
      "outputs": [
        {
          "output_type": "execute_result",
          "data": {
            "text/plain": [
              "(4, 1)"
            ]
          },
          "metadata": {
            "tags": []
          },
          "execution_count": 5
        }
      ]
    },
    {
      "cell_type": "markdown",
      "metadata": {
        "id": "cV__461GwIFf"
      },
      "source": [
        "**Assigning Weights**"
      ]
    },
    {
      "cell_type": "code",
      "metadata": {
        "colab": {
          "base_uri": "https://localhost:8080/"
        },
        "id": "-mlPkZQXwIMz",
        "outputId": "0f4fe58a-4a14-4289-8e6b-a2234ee29408"
      },
      "source": [
        "weights = np.array([[0.1], [0.2]])\n",
        "weights"
      ],
      "execution_count": 6,
      "outputs": [
        {
          "output_type": "execute_result",
          "data": {
            "text/plain": [
              "array([[0.1],\n",
              "       [0.2]])"
            ]
          },
          "metadata": {
            "tags": []
          },
          "execution_count": 6
        }
      ]
    },
    {
      "cell_type": "markdown",
      "metadata": {
        "id": "ww80aoUowIao"
      },
      "source": [
        "**Adding Bias**"
      ]
    },
    {
      "cell_type": "code",
      "metadata": {
        "id": "CSDTuC17wIg5"
      },
      "source": [
        "bias = 0.3"
      ],
      "execution_count": 7,
      "outputs": []
    },
    {
      "cell_type": "markdown",
      "metadata": {
        "id": "NiUaBk2QwIn-"
      },
      "source": [
        "**Activation function**"
      ]
    },
    {
      "cell_type": "code",
      "metadata": {
        "id": "rXms8m4dwIuF"
      },
      "source": [
        "def sigmoid_func(x):\n",
        "  return 1/(1 + np.exp(-x))"
      ],
      "execution_count": 8,
      "outputs": []
    },
    {
      "cell_type": "markdown",
      "metadata": {
        "id": "ERl6ozD2wI0n"
      },
      "source": [
        "**Derivative of sigmoid function**"
      ]
    },
    {
      "cell_type": "code",
      "metadata": {
        "id": "PPgI5z-cwI6x"
      },
      "source": [
        "def der(x):\n",
        "  return sigmoid_func(x) * (1 - sigmoid_func(x))"
      ],
      "execution_count": 9,
      "outputs": []
    },
    {
      "cell_type": "markdown",
      "metadata": {
        "id": "EEu9-eUww4Zw"
      },
      "source": [
        "**Adjusting Weights**"
      ]
    },
    {
      "cell_type": "code",
      "metadata": {
        "colab": {
          "base_uri": "https://localhost:8080/"
        },
        "id": "7RnJLc3Uw4hn",
        "outputId": "a5ebe90a-c56b-42a7-a5f1-a4cde4f7979c"
      },
      "source": [
        "for epochs in range(10000):\n",
        "  input_arr = input_value\n",
        "  weighted_sum = np.dot(input_arr, weights) + bias\n",
        "  first_output = sigmoid_func(weighted_sum)\n",
        "\n",
        "  error = first_output - output\n",
        "  total_error = np.square(np.subtract(first_output,output)).mean()\n",
        "\n",
        "  #print(total_error)\n",
        "\n",
        "  first_der = error\n",
        "  second_der = der(first_output)\n",
        "  derivative = first_der*second_der\n",
        "\n",
        "  t_input = input_value.T\n",
        "  final_derivative = np.dot(t_input, derivative)\n",
        "\n",
        "  #update weights\n",
        "  weights = weights - 0.05 * final_derivative\n",
        "\n",
        "  #update bias\n",
        "  for i in derivative:\n",
        "    bias = bias - 0.04 * i\n",
        "\n",
        "print(\"Weights\",weights)\n",
        "print(\"Bias\",bias)"
      ],
      "execution_count": 10,
      "outputs": [
        {
          "output_type": "stream",
          "text": [
            "Weights [[-0.50362183]\n",
            " [ 8.92257347]]\n",
            "Bias [-4.08058729]\n"
          ],
          "name": "stdout"
        }
      ]
    },
    {
      "cell_type": "markdown",
      "metadata": {
        "id": "wxg_n40Bw4oF"
      },
      "source": [
        "## **Predictions**"
      ]
    },
    {
      "cell_type": "code",
      "metadata": {
        "colab": {
          "base_uri": "https://localhost:8080/"
        },
        "id": "XYftNex1w4uP",
        "outputId": "733fccc4-d8fc-44c6-90dc-179ac8c180a6"
      },
      "source": [
        "pred = np.array([0,1])\n",
        "\n",
        "result = np.dot(pred, weights) + bias\n",
        "\n",
        "res = sigmoid_func(result)\n",
        "\n",
        "print(res)"
      ],
      "execution_count": 11,
      "outputs": [
        {
          "output_type": "stream",
          "text": [
            "[0.99217042]\n"
          ],
          "name": "stdout"
        }
      ]
    },
    {
      "cell_type": "markdown",
      "metadata": {
        "id": "X5DXwU7Ru01I"
      },
      "source": [
        "Best Reference to best Blog exist.\n",
        "[Click here](https://medium.com/towards-artificial-intelligence/building-neural-networks-from-scratch-with-python-code-and-math-in-detail-i-536fae5d7bbf)"
      ]
    }
  ]
}